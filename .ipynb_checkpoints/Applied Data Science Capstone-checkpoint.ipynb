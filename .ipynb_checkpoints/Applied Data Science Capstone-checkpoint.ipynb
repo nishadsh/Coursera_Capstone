{
 "cells": [
  {
   "cell_type": "markdown",
   "metadata": {},
   "source": [
    "# Coursera Applied Data Science Capstone project"
   ]
  },
  {
   "cell_type": "markdown",
   "metadata": {},
   "source": [
    "## This notebook will be mainly used for the Capstone project to predict road accident severity in Seattle city"
   ]
  },
  {
   "cell_type": "code",
   "execution_count": 1,
   "metadata": {},
   "outputs": [],
   "source": [
    "import pandas as pd\n",
    "import numpy as np\n",
    "import matplotlib.pyplot as plt\n",
    "import seaborn as sns\n",
    "%matplotlib inline"
   ]
  },
  {
   "cell_type": "code",
   "execution_count": 2,
   "metadata": {},
   "outputs": [
    {
     "name": "stdout",
     "output_type": "stream",
     "text": [
      "Hello Capstone Project Course!\n"
     ]
    }
   ],
   "source": [
    "print (\"Hello Capstone Project Course!\")"
   ]
  },
  {
   "cell_type": "markdown",
   "metadata": {},
   "source": [
    "## Introduction"
   ]
  },
  {
   "cell_type": "markdown",
   "metadata": {},
   "source": [
    "### Business Problem"
   ]
  },
  {
   "cell_type": "markdown",
   "metadata": {},
   "source": [
    "The problem statement is to predict the severity of road accidents caused by various factors in Seattle City. The accurate prediction of accident severity will be of great help to the following target audience. \n",
    "\n",
    "### Target audience\n",
    "\n",
    "#### 1. City administration\n",
    "The Seattle city administration can use the data to come up with various precautionary measures such as introduction of speed breakers, setting up speed limits, deploying more traffic control teams etc. in areas that are more prone to accidents. The administration can also look for factors other than location to come up with awareness campaigns for city dwellers on how to drive carefully in order to avoid accidents.\n",
    "\n",
    "#### 2. Emergency response teams\n",
    "Emergency reponse teams can be stationed near high accident prone areas in order to quickly help the victims of accidents to be taken to hospitals on time to save lives. \n",
    "\n",
    "#### 3. General public\n",
    "Given the weather and road conditions, the general public can predict the possibility of getting into a car accident and how severe it would be, so that they can drive more carefully or even change their travel."
   ]
  },
  {
   "cell_type": "markdown",
   "metadata": {},
   "source": [
    "## Data"
   ]
  },
  {
   "cell_type": "markdown",
   "metadata": {},
   "source": [
    "The data used for this project is the accident severity data in Seattle city. "
   ]
  },
  {
   "cell_type": "markdown",
   "metadata": {},
   "source": [
    "### Following are the different columns in the dataset and their description from the metadata file.\n",
    "\n",
    "1. SEVERITYCODE - A code that corresponds to the severity of the collision. This is our target variable.\n",
    "2. 'X'\n",
    "3. 'Y'\n",
    "4. OBJECTID - ESRI unique identifier\n",
    "5. INCKEY - A unique key for the incident\n",
    "6. COLDETKEY - Secondary key for the incident\n",
    "7. REPORTNO \n",
    "8. STATUS\n",
    "9. ADDRTYPE - Collision address type\n",
    "10. INTKEY - Key that corresponds to the intersection associated with a collision\n",
    "11. LOCATION - Description of the general location of the collision\n",
    "12. EXCEPTRSNCODE \n",
    "13. EXCEPTRSNDESC\n",
    "14. SEVERITYCODE.1\n",
    "15. SEVERITYDESC - A detailed description of the severity of the collision\n",
    "16. COLLISIONTYPE - Collision type\n",
    "17. PERSONCOUNT - The total number of people involved in the collision\n",
    "18. PEDCOUNT - The number of pedestrians involved in the collision\n",
    "19. PEDCYLCOUNT - The number of bicycles involved in the collision\n",
    "20. VEHCOUNT - The number of vehicles involved in the collision\n",
    "21. INCDATE - The date of the incident\n",
    "22. INCDTTM - The date and time of the incident\n",
    "23. JUNCTIONTYPE - Category of junction at which collision took place\n",
    "24. SDOT_COLCODE - A code given to the collision by SDOT\n",
    "25. SDOT_COLDESC - A description of the collision corresponding to the collision code\n",
    "26. INATTENTIONIND - Whether or not collision was due to inattention\n",
    "27. UNDERINFL - Whether or not a driver involved was under the influence of drugs or alcohol\n",
    "28. WEATHER - A description of the weather conditions during the time of the collision\n",
    "29. ROADCOND - The condition of the road during the collision\n",
    "30. LIGHTCOND - The light conditions during the collision\n",
    "31. PEDROWNOTGRNT - Whether or not the pedestrian right of way was not granted\n",
    "32. SDOTCOLNUM - A number given to the collision by SDOT\n",
    "33. SPEEDING - Whether or not speeding was a factor in the collision\n",
    "34. ST_COLCODE - A code provided by the state that describes the collision\n",
    "35. ST_COLDESC - A description that corresponds to the state’s coding designation\n",
    "36. SEGLANEKEY - A key for the lane segment in which the collision occurred\n",
    "37. CROSSWALKKEY - A key for the crosswalk at which the collision occurred\n",
    "38. HITPARKEDCAR - Whether or not the collision involved hitting a parked car\n"
   ]
  },
  {
   "cell_type": "code",
   "execution_count": 3,
   "metadata": {},
   "outputs": [
    {
     "name": "stderr",
     "output_type": "stream",
     "text": [
      "/opt/anaconda3/lib/python3.7/site-packages/IPython/core/interactiveshell.py:3063: DtypeWarning: Columns (33) have mixed types.Specify dtype option on import or set low_memory=False.\n",
      "  interactivity=interactivity, compiler=compiler, result=result)\n"
     ]
    },
    {
     "data": {
      "text/html": [
       "<div>\n",
       "<style scoped>\n",
       "    .dataframe tbody tr th:only-of-type {\n",
       "        vertical-align: middle;\n",
       "    }\n",
       "\n",
       "    .dataframe tbody tr th {\n",
       "        vertical-align: top;\n",
       "    }\n",
       "\n",
       "    .dataframe thead th {\n",
       "        text-align: right;\n",
       "    }\n",
       "</style>\n",
       "<table border=\"1\" class=\"dataframe\">\n",
       "  <thead>\n",
       "    <tr style=\"text-align: right;\">\n",
       "      <th></th>\n",
       "      <th>SEVERITYCODE</th>\n",
       "      <th>X</th>\n",
       "      <th>Y</th>\n",
       "      <th>OBJECTID</th>\n",
       "      <th>INCKEY</th>\n",
       "      <th>COLDETKEY</th>\n",
       "      <th>REPORTNO</th>\n",
       "      <th>STATUS</th>\n",
       "      <th>ADDRTYPE</th>\n",
       "      <th>INTKEY</th>\n",
       "      <th>...</th>\n",
       "      <th>ROADCOND</th>\n",
       "      <th>LIGHTCOND</th>\n",
       "      <th>PEDROWNOTGRNT</th>\n",
       "      <th>SDOTCOLNUM</th>\n",
       "      <th>SPEEDING</th>\n",
       "      <th>ST_COLCODE</th>\n",
       "      <th>ST_COLDESC</th>\n",
       "      <th>SEGLANEKEY</th>\n",
       "      <th>CROSSWALKKEY</th>\n",
       "      <th>HITPARKEDCAR</th>\n",
       "    </tr>\n",
       "  </thead>\n",
       "  <tbody>\n",
       "    <tr>\n",
       "      <th>0</th>\n",
       "      <td>2</td>\n",
       "      <td>-122.323148</td>\n",
       "      <td>47.703140</td>\n",
       "      <td>1</td>\n",
       "      <td>1307</td>\n",
       "      <td>1307</td>\n",
       "      <td>3502005</td>\n",
       "      <td>Matched</td>\n",
       "      <td>Intersection</td>\n",
       "      <td>37475.0</td>\n",
       "      <td>...</td>\n",
       "      <td>Wet</td>\n",
       "      <td>Daylight</td>\n",
       "      <td>NaN</td>\n",
       "      <td>NaN</td>\n",
       "      <td>NaN</td>\n",
       "      <td>10</td>\n",
       "      <td>Entering at angle</td>\n",
       "      <td>0</td>\n",
       "      <td>0</td>\n",
       "      <td>N</td>\n",
       "    </tr>\n",
       "    <tr>\n",
       "      <th>1</th>\n",
       "      <td>1</td>\n",
       "      <td>-122.347294</td>\n",
       "      <td>47.647172</td>\n",
       "      <td>2</td>\n",
       "      <td>52200</td>\n",
       "      <td>52200</td>\n",
       "      <td>2607959</td>\n",
       "      <td>Matched</td>\n",
       "      <td>Block</td>\n",
       "      <td>NaN</td>\n",
       "      <td>...</td>\n",
       "      <td>Wet</td>\n",
       "      <td>Dark - Street Lights On</td>\n",
       "      <td>NaN</td>\n",
       "      <td>6354039.0</td>\n",
       "      <td>NaN</td>\n",
       "      <td>11</td>\n",
       "      <td>From same direction - both going straight - bo...</td>\n",
       "      <td>0</td>\n",
       "      <td>0</td>\n",
       "      <td>N</td>\n",
       "    </tr>\n",
       "    <tr>\n",
       "      <th>2</th>\n",
       "      <td>1</td>\n",
       "      <td>-122.334540</td>\n",
       "      <td>47.607871</td>\n",
       "      <td>3</td>\n",
       "      <td>26700</td>\n",
       "      <td>26700</td>\n",
       "      <td>1482393</td>\n",
       "      <td>Matched</td>\n",
       "      <td>Block</td>\n",
       "      <td>NaN</td>\n",
       "      <td>...</td>\n",
       "      <td>Dry</td>\n",
       "      <td>Daylight</td>\n",
       "      <td>NaN</td>\n",
       "      <td>4323031.0</td>\n",
       "      <td>NaN</td>\n",
       "      <td>32</td>\n",
       "      <td>One parked--one moving</td>\n",
       "      <td>0</td>\n",
       "      <td>0</td>\n",
       "      <td>N</td>\n",
       "    </tr>\n",
       "    <tr>\n",
       "      <th>3</th>\n",
       "      <td>1</td>\n",
       "      <td>-122.334803</td>\n",
       "      <td>47.604803</td>\n",
       "      <td>4</td>\n",
       "      <td>1144</td>\n",
       "      <td>1144</td>\n",
       "      <td>3503937</td>\n",
       "      <td>Matched</td>\n",
       "      <td>Block</td>\n",
       "      <td>NaN</td>\n",
       "      <td>...</td>\n",
       "      <td>Dry</td>\n",
       "      <td>Daylight</td>\n",
       "      <td>NaN</td>\n",
       "      <td>NaN</td>\n",
       "      <td>NaN</td>\n",
       "      <td>23</td>\n",
       "      <td>From same direction - all others</td>\n",
       "      <td>0</td>\n",
       "      <td>0</td>\n",
       "      <td>N</td>\n",
       "    </tr>\n",
       "    <tr>\n",
       "      <th>4</th>\n",
       "      <td>2</td>\n",
       "      <td>-122.306426</td>\n",
       "      <td>47.545739</td>\n",
       "      <td>5</td>\n",
       "      <td>17700</td>\n",
       "      <td>17700</td>\n",
       "      <td>1807429</td>\n",
       "      <td>Matched</td>\n",
       "      <td>Intersection</td>\n",
       "      <td>34387.0</td>\n",
       "      <td>...</td>\n",
       "      <td>Wet</td>\n",
       "      <td>Daylight</td>\n",
       "      <td>NaN</td>\n",
       "      <td>4028032.0</td>\n",
       "      <td>NaN</td>\n",
       "      <td>10</td>\n",
       "      <td>Entering at angle</td>\n",
       "      <td>0</td>\n",
       "      <td>0</td>\n",
       "      <td>N</td>\n",
       "    </tr>\n",
       "  </tbody>\n",
       "</table>\n",
       "<p>5 rows × 38 columns</p>\n",
       "</div>"
      ],
      "text/plain": [
       "   SEVERITYCODE           X          Y  OBJECTID  INCKEY  COLDETKEY REPORTNO  \\\n",
       "0             2 -122.323148  47.703140         1    1307       1307  3502005   \n",
       "1             1 -122.347294  47.647172         2   52200      52200  2607959   \n",
       "2             1 -122.334540  47.607871         3   26700      26700  1482393   \n",
       "3             1 -122.334803  47.604803         4    1144       1144  3503937   \n",
       "4             2 -122.306426  47.545739         5   17700      17700  1807429   \n",
       "\n",
       "    STATUS      ADDRTYPE   INTKEY  ... ROADCOND                LIGHTCOND  \\\n",
       "0  Matched  Intersection  37475.0  ...      Wet                 Daylight   \n",
       "1  Matched         Block      NaN  ...      Wet  Dark - Street Lights On   \n",
       "2  Matched         Block      NaN  ...      Dry                 Daylight   \n",
       "3  Matched         Block      NaN  ...      Dry                 Daylight   \n",
       "4  Matched  Intersection  34387.0  ...      Wet                 Daylight   \n",
       "\n",
       "  PEDROWNOTGRNT  SDOTCOLNUM SPEEDING ST_COLCODE  \\\n",
       "0           NaN         NaN      NaN         10   \n",
       "1           NaN   6354039.0      NaN         11   \n",
       "2           NaN   4323031.0      NaN         32   \n",
       "3           NaN         NaN      NaN         23   \n",
       "4           NaN   4028032.0      NaN         10   \n",
       "\n",
       "                                          ST_COLDESC  SEGLANEKEY  \\\n",
       "0                                  Entering at angle           0   \n",
       "1  From same direction - both going straight - bo...           0   \n",
       "2                             One parked--one moving           0   \n",
       "3                   From same direction - all others           0   \n",
       "4                                  Entering at angle           0   \n",
       "\n",
       "   CROSSWALKKEY  HITPARKEDCAR  \n",
       "0             0             N  \n",
       "1             0             N  \n",
       "2             0             N  \n",
       "3             0             N  \n",
       "4             0             N  \n",
       "\n",
       "[5 rows x 38 columns]"
      ]
     },
     "execution_count": 3,
     "metadata": {},
     "output_type": "execute_result"
    }
   ],
   "source": [
    "# Import the dataset\n",
    "df = pd.read_csv(\"Data-Collisions.csv.1\")\n",
    "df.head() # Display the first 5 rows of the dataframe"
   ]
  },
  {
   "cell_type": "markdown",
   "metadata": {},
   "source": [
    "### Select the feature variables"
   ]
  },
  {
   "cell_type": "code",
   "execution_count": 4,
   "metadata": {},
   "outputs": [
    {
     "data": {
      "text/plain": [
       "Index(['SEVERITYCODE', 'X', 'Y', 'OBJECTID', 'INCKEY', 'COLDETKEY', 'REPORTNO',\n",
       "       'STATUS', 'ADDRTYPE', 'INTKEY', 'LOCATION', 'EXCEPTRSNCODE',\n",
       "       'EXCEPTRSNDESC', 'SEVERITYCODE.1', 'SEVERITYDESC', 'COLLISIONTYPE',\n",
       "       'PERSONCOUNT', 'PEDCOUNT', 'PEDCYLCOUNT', 'VEHCOUNT', 'INCDATE',\n",
       "       'INCDTTM', 'JUNCTIONTYPE', 'SDOT_COLCODE', 'SDOT_COLDESC',\n",
       "       'INATTENTIONIND', 'UNDERINFL', 'WEATHER', 'ROADCOND', 'LIGHTCOND',\n",
       "       'PEDROWNOTGRNT', 'SDOTCOLNUM', 'SPEEDING', 'ST_COLCODE', 'ST_COLDESC',\n",
       "       'SEGLANEKEY', 'CROSSWALKKEY', 'HITPARKEDCAR'],\n",
       "      dtype='object')"
      ]
     },
     "execution_count": 4,
     "metadata": {},
     "output_type": "execute_result"
    }
   ],
   "source": [
    "#Columns in the dataset\n",
    "df.columns"
   ]
  },
  {
   "cell_type": "markdown",
   "metadata": {},
   "source": [
    "#### As a first step, we will ignore the columns that are redundant, the columns for which there are no descriptions available in the metadata, the columns that have large descriptions as their values and the columns that do not contribute to the prediction of accident severity. That leaves us with the following columns.\n",
    "\n",
    "1. SEVERITYCODE - A code that corresponds to the severity of the collision. This is the target variable.\n",
    "2. ADDRTYPE - Collision address type\n",
    "3. INTKEY - Key that corresponds to the intersection associated with a collision\n",
    "4. COLLISIONTYPE - Collision type\n",
    "5. PERSONCOUNT - The total number of people involved in the collision\n",
    "6. PEDCOUNT - The number of pedestrians involved in the collision\n",
    "7. PEDCYLCOUNT - The number of bicycles involved in the collision\n",
    "8. VEHCOUNT - The number of vehicles involved in the collision\n",
    "9. JUNCTIONTYPE - Category of junction at which collision took place\n",
    "10. INATTENTIONIND - Whether or not collision was due to inattention\n",
    "11. UNDERINFL - Whether or not a driver involved was under the influence of drugs or alcohol\n",
    "12. WEATHER - A description of the weather conditions during the time of the collision\n",
    "13. ROADCOND - The condition of the road during the collision\n",
    "14. LIGHTCOND - The light conditions during the collision\n",
    "15. PEDROWNOTGRNT - Whether or not the pedestrian right of way was not granted\n",
    "16. SPEEDING - Whether or not speeding was a factor in the collision\n",
    "17. HITPARKEDCAR - Whether or not the collision involved hitting a parked car"
   ]
  },
  {
   "cell_type": "code",
   "execution_count": 5,
   "metadata": {},
   "outputs": [],
   "source": [
    "# Drop the irrelevant columns\n",
    "df.drop(columns = ['OBJECTID','INCKEY','COLDETKEY','X','Y','REPORTNO','STATUS','SDOTCOLNUM','LOCATION','EXCEPTRSNCODE','EXCEPTRSNDESC','SEVERITYCODE.1','SEVERITYDESC','INCDATE','INCDTTM','SDOT_COLDESC','ST_COLDESC','SEGLANEKEY','CROSSWALKKEY','SDOT_COLCODE','ST_COLCODE'],axis = 1,inplace = True)"
   ]
  },
  {
   "cell_type": "code",
   "execution_count": 6,
   "metadata": {},
   "outputs": [
    {
     "data": {
      "text/html": [
       "<div>\n",
       "<style scoped>\n",
       "    .dataframe tbody tr th:only-of-type {\n",
       "        vertical-align: middle;\n",
       "    }\n",
       "\n",
       "    .dataframe tbody tr th {\n",
       "        vertical-align: top;\n",
       "    }\n",
       "\n",
       "    .dataframe thead th {\n",
       "        text-align: right;\n",
       "    }\n",
       "</style>\n",
       "<table border=\"1\" class=\"dataframe\">\n",
       "  <thead>\n",
       "    <tr style=\"text-align: right;\">\n",
       "      <th></th>\n",
       "      <th>SEVERITYCODE</th>\n",
       "      <th>ADDRTYPE</th>\n",
       "      <th>INTKEY</th>\n",
       "      <th>COLLISIONTYPE</th>\n",
       "      <th>PERSONCOUNT</th>\n",
       "      <th>PEDCOUNT</th>\n",
       "      <th>PEDCYLCOUNT</th>\n",
       "      <th>VEHCOUNT</th>\n",
       "      <th>JUNCTIONTYPE</th>\n",
       "      <th>INATTENTIONIND</th>\n",
       "      <th>UNDERINFL</th>\n",
       "      <th>WEATHER</th>\n",
       "      <th>ROADCOND</th>\n",
       "      <th>LIGHTCOND</th>\n",
       "      <th>PEDROWNOTGRNT</th>\n",
       "      <th>SPEEDING</th>\n",
       "      <th>HITPARKEDCAR</th>\n",
       "    </tr>\n",
       "  </thead>\n",
       "  <tbody>\n",
       "    <tr>\n",
       "      <th>0</th>\n",
       "      <td>2</td>\n",
       "      <td>Intersection</td>\n",
       "      <td>37475.0</td>\n",
       "      <td>Angles</td>\n",
       "      <td>2</td>\n",
       "      <td>0</td>\n",
       "      <td>0</td>\n",
       "      <td>2</td>\n",
       "      <td>At Intersection (intersection related)</td>\n",
       "      <td>NaN</td>\n",
       "      <td>N</td>\n",
       "      <td>Overcast</td>\n",
       "      <td>Wet</td>\n",
       "      <td>Daylight</td>\n",
       "      <td>NaN</td>\n",
       "      <td>NaN</td>\n",
       "      <td>N</td>\n",
       "    </tr>\n",
       "    <tr>\n",
       "      <th>1</th>\n",
       "      <td>1</td>\n",
       "      <td>Block</td>\n",
       "      <td>NaN</td>\n",
       "      <td>Sideswipe</td>\n",
       "      <td>2</td>\n",
       "      <td>0</td>\n",
       "      <td>0</td>\n",
       "      <td>2</td>\n",
       "      <td>Mid-Block (not related to intersection)</td>\n",
       "      <td>NaN</td>\n",
       "      <td>0</td>\n",
       "      <td>Raining</td>\n",
       "      <td>Wet</td>\n",
       "      <td>Dark - Street Lights On</td>\n",
       "      <td>NaN</td>\n",
       "      <td>NaN</td>\n",
       "      <td>N</td>\n",
       "    </tr>\n",
       "    <tr>\n",
       "      <th>2</th>\n",
       "      <td>1</td>\n",
       "      <td>Block</td>\n",
       "      <td>NaN</td>\n",
       "      <td>Parked Car</td>\n",
       "      <td>4</td>\n",
       "      <td>0</td>\n",
       "      <td>0</td>\n",
       "      <td>3</td>\n",
       "      <td>Mid-Block (not related to intersection)</td>\n",
       "      <td>NaN</td>\n",
       "      <td>0</td>\n",
       "      <td>Overcast</td>\n",
       "      <td>Dry</td>\n",
       "      <td>Daylight</td>\n",
       "      <td>NaN</td>\n",
       "      <td>NaN</td>\n",
       "      <td>N</td>\n",
       "    </tr>\n",
       "    <tr>\n",
       "      <th>3</th>\n",
       "      <td>1</td>\n",
       "      <td>Block</td>\n",
       "      <td>NaN</td>\n",
       "      <td>Other</td>\n",
       "      <td>3</td>\n",
       "      <td>0</td>\n",
       "      <td>0</td>\n",
       "      <td>3</td>\n",
       "      <td>Mid-Block (not related to intersection)</td>\n",
       "      <td>NaN</td>\n",
       "      <td>N</td>\n",
       "      <td>Clear</td>\n",
       "      <td>Dry</td>\n",
       "      <td>Daylight</td>\n",
       "      <td>NaN</td>\n",
       "      <td>NaN</td>\n",
       "      <td>N</td>\n",
       "    </tr>\n",
       "    <tr>\n",
       "      <th>4</th>\n",
       "      <td>2</td>\n",
       "      <td>Intersection</td>\n",
       "      <td>34387.0</td>\n",
       "      <td>Angles</td>\n",
       "      <td>2</td>\n",
       "      <td>0</td>\n",
       "      <td>0</td>\n",
       "      <td>2</td>\n",
       "      <td>At Intersection (intersection related)</td>\n",
       "      <td>NaN</td>\n",
       "      <td>0</td>\n",
       "      <td>Raining</td>\n",
       "      <td>Wet</td>\n",
       "      <td>Daylight</td>\n",
       "      <td>NaN</td>\n",
       "      <td>NaN</td>\n",
       "      <td>N</td>\n",
       "    </tr>\n",
       "  </tbody>\n",
       "</table>\n",
       "</div>"
      ],
      "text/plain": [
       "   SEVERITYCODE      ADDRTYPE   INTKEY COLLISIONTYPE  PERSONCOUNT  PEDCOUNT  \\\n",
       "0             2  Intersection  37475.0        Angles            2         0   \n",
       "1             1         Block      NaN     Sideswipe            2         0   \n",
       "2             1         Block      NaN    Parked Car            4         0   \n",
       "3             1         Block      NaN         Other            3         0   \n",
       "4             2  Intersection  34387.0        Angles            2         0   \n",
       "\n",
       "   PEDCYLCOUNT  VEHCOUNT                             JUNCTIONTYPE  \\\n",
       "0            0         2   At Intersection (intersection related)   \n",
       "1            0         2  Mid-Block (not related to intersection)   \n",
       "2            0         3  Mid-Block (not related to intersection)   \n",
       "3            0         3  Mid-Block (not related to intersection)   \n",
       "4            0         2   At Intersection (intersection related)   \n",
       "\n",
       "  INATTENTIONIND UNDERINFL   WEATHER ROADCOND                LIGHTCOND  \\\n",
       "0            NaN         N  Overcast      Wet                 Daylight   \n",
       "1            NaN         0   Raining      Wet  Dark - Street Lights On   \n",
       "2            NaN         0  Overcast      Dry                 Daylight   \n",
       "3            NaN         N     Clear      Dry                 Daylight   \n",
       "4            NaN         0   Raining      Wet                 Daylight   \n",
       "\n",
       "  PEDROWNOTGRNT SPEEDING HITPARKEDCAR  \n",
       "0           NaN      NaN            N  \n",
       "1           NaN      NaN            N  \n",
       "2           NaN      NaN            N  \n",
       "3           NaN      NaN            N  \n",
       "4           NaN      NaN            N  "
      ]
     },
     "execution_count": 6,
     "metadata": {},
     "output_type": "execute_result"
    }
   ],
   "source": [
    "df.head()"
   ]
  },
  {
   "cell_type": "code",
   "execution_count": 7,
   "metadata": {},
   "outputs": [
    {
     "data": {
      "text/plain": [
       "(194673, 17)"
      ]
     },
     "execution_count": 7,
     "metadata": {},
     "output_type": "execute_result"
    }
   ],
   "source": [
    "# Check the size of the dataset\n",
    "df.shape"
   ]
  },
  {
   "cell_type": "code",
   "execution_count": 8,
   "metadata": {},
   "outputs": [
    {
     "data": {
      "text/plain": [
       "SEVERITYCODE           0\n",
       "ADDRTYPE            1926\n",
       "INTKEY            129603\n",
       "COLLISIONTYPE       4904\n",
       "PERSONCOUNT            0\n",
       "PEDCOUNT               0\n",
       "PEDCYLCOUNT            0\n",
       "VEHCOUNT               0\n",
       "JUNCTIONTYPE        6329\n",
       "INATTENTIONIND    164868\n",
       "UNDERINFL           4884\n",
       "WEATHER             5081\n",
       "ROADCOND            5012\n",
       "LIGHTCOND           5170\n",
       "PEDROWNOTGRNT     190006\n",
       "SPEEDING          185340\n",
       "HITPARKEDCAR           0\n",
       "dtype: int64"
      ]
     },
     "execution_count": 8,
     "metadata": {},
     "output_type": "execute_result"
    }
   ],
   "source": [
    "# Check for null values in the dataset\n",
    "df.isnull().sum()"
   ]
  },
  {
   "cell_type": "markdown",
   "metadata": {},
   "source": [
    "#### INTKEY, INATTENTIONIND, PEDROWNOTGRNT and SPEEDING columns have mostly null values. Hence, we will remove those columns from the dataframe. "
   ]
  },
  {
   "cell_type": "code",
   "execution_count": 9,
   "metadata": {},
   "outputs": [],
   "source": [
    "df.drop(columns = [\"INTKEY\",\"INATTENTIONIND\",\"PEDROWNOTGRNT\",\"SPEEDING\"],axis = 1, inplace = True)"
   ]
  },
  {
   "cell_type": "markdown",
   "metadata": {},
   "source": [
    "#### Now we have reduced the number of columns to the following.\n",
    "\n",
    "1. SEVERITYCODE - A code that corresponds to the severity of the collision. This is the target variable.\n",
    "2. ADDRTYPE - Collision address type\n",
    "3. COLLISIONTYPE - Collision type\n",
    "4. PERSONCOUNT - The total number of people involved in the collision\n",
    "5. PEDCOUNT - The number of pedestrians involved in the collision\n",
    "6. PEDCYLCOUNT - The number of bicycles involved in the collision\n",
    "7. VEHCOUNT - The number of vehicles involved in the collision\n",
    "8. JUNCTIONTYPE - Category of junction at which collision took place\n",
    "9. UNDERINFL - Whether or not a driver involved was under the influence of drugs or alcohol\n",
    "10. WEATHER - A description of the weather conditions during the time of the collision\n",
    "11. ROADCOND - The condition of the road during the collision\n",
    "12. LIGHTCOND - The light conditions during the collision\n",
    "13. HITPARKEDCAR - Whether or not the collision involved hitting a parked car"
   ]
  },
  {
   "cell_type": "code",
   "execution_count": 10,
   "metadata": {},
   "outputs": [
    {
     "data": {
      "text/html": [
       "<div>\n",
       "<style scoped>\n",
       "    .dataframe tbody tr th:only-of-type {\n",
       "        vertical-align: middle;\n",
       "    }\n",
       "\n",
       "    .dataframe tbody tr th {\n",
       "        vertical-align: top;\n",
       "    }\n",
       "\n",
       "    .dataframe thead th {\n",
       "        text-align: right;\n",
       "    }\n",
       "</style>\n",
       "<table border=\"1\" class=\"dataframe\">\n",
       "  <thead>\n",
       "    <tr style=\"text-align: right;\">\n",
       "      <th></th>\n",
       "      <th>SEVERITYCODE</th>\n",
       "      <th>ADDRTYPE</th>\n",
       "      <th>COLLISIONTYPE</th>\n",
       "      <th>PERSONCOUNT</th>\n",
       "      <th>PEDCOUNT</th>\n",
       "      <th>PEDCYLCOUNT</th>\n",
       "      <th>VEHCOUNT</th>\n",
       "      <th>JUNCTIONTYPE</th>\n",
       "      <th>UNDERINFL</th>\n",
       "      <th>WEATHER</th>\n",
       "      <th>ROADCOND</th>\n",
       "      <th>LIGHTCOND</th>\n",
       "      <th>HITPARKEDCAR</th>\n",
       "    </tr>\n",
       "  </thead>\n",
       "  <tbody>\n",
       "    <tr>\n",
       "      <th>0</th>\n",
       "      <td>2</td>\n",
       "      <td>Intersection</td>\n",
       "      <td>Angles</td>\n",
       "      <td>2</td>\n",
       "      <td>0</td>\n",
       "      <td>0</td>\n",
       "      <td>2</td>\n",
       "      <td>At Intersection (intersection related)</td>\n",
       "      <td>N</td>\n",
       "      <td>Overcast</td>\n",
       "      <td>Wet</td>\n",
       "      <td>Daylight</td>\n",
       "      <td>N</td>\n",
       "    </tr>\n",
       "    <tr>\n",
       "      <th>1</th>\n",
       "      <td>1</td>\n",
       "      <td>Block</td>\n",
       "      <td>Sideswipe</td>\n",
       "      <td>2</td>\n",
       "      <td>0</td>\n",
       "      <td>0</td>\n",
       "      <td>2</td>\n",
       "      <td>Mid-Block (not related to intersection)</td>\n",
       "      <td>0</td>\n",
       "      <td>Raining</td>\n",
       "      <td>Wet</td>\n",
       "      <td>Dark - Street Lights On</td>\n",
       "      <td>N</td>\n",
       "    </tr>\n",
       "    <tr>\n",
       "      <th>2</th>\n",
       "      <td>1</td>\n",
       "      <td>Block</td>\n",
       "      <td>Parked Car</td>\n",
       "      <td>4</td>\n",
       "      <td>0</td>\n",
       "      <td>0</td>\n",
       "      <td>3</td>\n",
       "      <td>Mid-Block (not related to intersection)</td>\n",
       "      <td>0</td>\n",
       "      <td>Overcast</td>\n",
       "      <td>Dry</td>\n",
       "      <td>Daylight</td>\n",
       "      <td>N</td>\n",
       "    </tr>\n",
       "    <tr>\n",
       "      <th>3</th>\n",
       "      <td>1</td>\n",
       "      <td>Block</td>\n",
       "      <td>Other</td>\n",
       "      <td>3</td>\n",
       "      <td>0</td>\n",
       "      <td>0</td>\n",
       "      <td>3</td>\n",
       "      <td>Mid-Block (not related to intersection)</td>\n",
       "      <td>N</td>\n",
       "      <td>Clear</td>\n",
       "      <td>Dry</td>\n",
       "      <td>Daylight</td>\n",
       "      <td>N</td>\n",
       "    </tr>\n",
       "    <tr>\n",
       "      <th>4</th>\n",
       "      <td>2</td>\n",
       "      <td>Intersection</td>\n",
       "      <td>Angles</td>\n",
       "      <td>2</td>\n",
       "      <td>0</td>\n",
       "      <td>0</td>\n",
       "      <td>2</td>\n",
       "      <td>At Intersection (intersection related)</td>\n",
       "      <td>0</td>\n",
       "      <td>Raining</td>\n",
       "      <td>Wet</td>\n",
       "      <td>Daylight</td>\n",
       "      <td>N</td>\n",
       "    </tr>\n",
       "  </tbody>\n",
       "</table>\n",
       "</div>"
      ],
      "text/plain": [
       "   SEVERITYCODE      ADDRTYPE COLLISIONTYPE  PERSONCOUNT  PEDCOUNT  \\\n",
       "0             2  Intersection        Angles            2         0   \n",
       "1             1         Block     Sideswipe            2         0   \n",
       "2             1         Block    Parked Car            4         0   \n",
       "3             1         Block         Other            3         0   \n",
       "4             2  Intersection        Angles            2         0   \n",
       "\n",
       "   PEDCYLCOUNT  VEHCOUNT                             JUNCTIONTYPE UNDERINFL  \\\n",
       "0            0         2   At Intersection (intersection related)         N   \n",
       "1            0         2  Mid-Block (not related to intersection)         0   \n",
       "2            0         3  Mid-Block (not related to intersection)         0   \n",
       "3            0         3  Mid-Block (not related to intersection)         N   \n",
       "4            0         2   At Intersection (intersection related)         0   \n",
       "\n",
       "    WEATHER ROADCOND                LIGHTCOND HITPARKEDCAR  \n",
       "0  Overcast      Wet                 Daylight            N  \n",
       "1   Raining      Wet  Dark - Street Lights On            N  \n",
       "2  Overcast      Dry                 Daylight            N  \n",
       "3     Clear      Dry                 Daylight            N  \n",
       "4   Raining      Wet                 Daylight            N  "
      ]
     },
     "execution_count": 10,
     "metadata": {},
     "output_type": "execute_result"
    }
   ],
   "source": [
    "df.head()"
   ]
  },
  {
   "cell_type": "code",
   "execution_count": 11,
   "metadata": {},
   "outputs": [
    {
     "data": {
      "text/plain": [
       "SEVERITYCODE        0\n",
       "ADDRTYPE         1926\n",
       "COLLISIONTYPE    4904\n",
       "PERSONCOUNT         0\n",
       "PEDCOUNT            0\n",
       "PEDCYLCOUNT         0\n",
       "VEHCOUNT            0\n",
       "JUNCTIONTYPE     6329\n",
       "UNDERINFL        4884\n",
       "WEATHER          5081\n",
       "ROADCOND         5012\n",
       "LIGHTCOND        5170\n",
       "HITPARKEDCAR        0\n",
       "dtype: int64"
      ]
     },
     "execution_count": 11,
     "metadata": {},
     "output_type": "execute_result"
    }
   ],
   "source": [
    "# Check for null values in the dataset\n",
    "df.isnull().sum()"
   ]
  },
  {
   "cell_type": "markdown",
   "metadata": {},
   "source": [
    "### Exploratory Data Analysis"
   ]
  },
  {
   "cell_type": "code",
   "execution_count": 12,
   "metadata": {},
   "outputs": [
    {
     "data": {
      "text/plain": [
       "SEVERITYCODE      int64\n",
       "ADDRTYPE         object\n",
       "COLLISIONTYPE    object\n",
       "PERSONCOUNT       int64\n",
       "PEDCOUNT          int64\n",
       "PEDCYLCOUNT       int64\n",
       "VEHCOUNT          int64\n",
       "JUNCTIONTYPE     object\n",
       "UNDERINFL        object\n",
       "WEATHER          object\n",
       "ROADCOND         object\n",
       "LIGHTCOND        object\n",
       "HITPARKEDCAR     object\n",
       "dtype: object"
      ]
     },
     "execution_count": 12,
     "metadata": {},
     "output_type": "execute_result"
    }
   ],
   "source": [
    "# Data types of the variables\n",
    "df.dtypes"
   ]
  },
  {
   "cell_type": "code",
   "execution_count": 13,
   "metadata": {},
   "outputs": [
    {
     "data": {
      "image/png": "[encoded data removed]",
      "text/plain": [
       "<Figure size 864x432 with 1 Axes>"
      ]
     },
     "metadata": {
      "needs_background": "light"
     },
     "output_type": "display_data"
    }
   ],
   "source": [
    "# ADDRTYPE vs SEVERITYCODE\n",
    "plt.figure(figsize = (12,6))\n",
    "df.groupby(\"ADDRTYPE\")[\"SEVERITYCODE\"].value_counts().plot(kind='bar');"
   ]
  },
  {
   "cell_type": "code",
   "execution_count": 14,
   "metadata": {},
   "outputs": [
    {
     "data": {
      "image/png": "[encoded data removed]",
      "text/plain": [
       "<Figure size 864x432 with 1 Axes>"
      ]
     },
     "metadata": {
      "needs_background": "light"
     },
     "output_type": "display_data"
    }
   ],
   "source": [
    "# COLLISIONTYPE vs SEVERITYCODE\n",
    "plt.figure(figsize = (12,6))\n",
    "df.groupby(\"COLLISIONTYPE\")[\"SEVERITYCODE\"].value_counts().plot(kind='bar');"
   ]
  },
  {
   "cell_type": "code",
   "execution_count": 15,
   "metadata": {},
   "outputs": [
    {
     "data": {
      "image/png": "[encoded data removed]",
      "text/plain": [
       "<Figure size 864x432 with 1 Axes>"
      ]
     },
     "metadata": {
      "needs_background": "light"
     },
     "output_type": "display_data"
    }
   ],
   "source": [
    "# PERSONCOUNT vs SEVERITYCODE\n",
    "plt.figure(figsize = (12,6))\n",
    "sns.boxplot(x = \"SEVERITYCODE\",y = \"PERSONCOUNT\",data = df);"
   ]
  },
  {
   "cell_type": "code",
   "execution_count": 16,
   "metadata": {},
   "outputs": [
    {
     "data": {
      "image/png": "[encoded data removed]",
      "text/plain": [
       "<Figure size 864x432 with 1 Axes>"
      ]
     },
     "metadata": {
      "needs_background": "light"
     },
     "output_type": "display_data"
    }
   ],
   "source": [
    "# PEDCOUNT vs SEVERITYCODE\n",
    "plt.figure(figsize = (12,6))\n",
    "sns.boxplot(x = \"SEVERITYCODE\",y = \"PEDCOUNT\",data = df);"
   ]
  },
  {
   "cell_type": "code",
   "execution_count": 17,
   "metadata": {},
   "outputs": [
    {
     "data": {
      "image/png": "[encoded data removed]",
      "text/plain": [
       "<Figure size 864x432 with 1 Axes>"
      ]
     },
     "metadata": {
      "needs_background": "light"
     },
     "output_type": "display_data"
    }
   ],
   "source": [
    "# PEDCYLCOUNT vs SEVERITYCODE\n",
    "plt.figure(figsize = (12,6))\n",
    "sns.boxplot(x = \"SEVERITYCODE\",y = \"PEDCYLCOUNT\",data = df);"
   ]
  },
  {
   "cell_type": "code",
   "execution_count": 18,
   "metadata": {},
   "outputs": [
    {
     "data": {
      "image/png": "[encoded data removed]",
      "text/plain": [
       "<Figure size 864x432 with 1 Axes>"
      ]
     },
     "metadata": {
      "needs_background": "light"
     },
     "output_type": "display_data"
    }
   ],
   "source": [
    "# VEHCOUNT vs SEVERITYCODE\n",
    "plt.figure(figsize = (12,6))\n",
    "sns.boxplot(x = \"SEVERITYCODE\",y = \"VEHCOUNT\",data = df);"
   ]
  },
  {
   "cell_type": "code",
   "execution_count": 19,
   "metadata": {},
   "outputs": [
    {
     "data": {
      "image/png": "[encoded data removed]",
      "text/plain": [
       "<Figure size 864x432 with 1 Axes>"
      ]
     },
     "metadata": {
      "needs_background": "light"
     },
     "output_type": "display_data"
    }
   ],
   "source": [
    "# JUNCTIONTYPE vs SEVERITYCODE\n",
    "plt.figure(figsize = (12,6))\n",
    "df.groupby(\"JUNCTIONTYPE\")[\"SEVERITYCODE\"].value_counts().plot(kind='bar');"
   ]
  },
  {
   "cell_type": "code",
   "execution_count": 20,
   "metadata": {},
   "outputs": [
    {
     "data": {
      "image/png": "[encoded data removed]",
      "text/plain": [
       "<Figure size 1152x432 with 1 Axes>"
      ]
     },
     "metadata": {
      "needs_background": "light"
     },
     "output_type": "display_data"
    }
   ],
   "source": [
    "# UNDERINFL vs SEVERITYCODE\n",
    "plt.figure(figsize = (16,6))\n",
    "df.groupby(\"UNDERINFL\")[\"SEVERITYCODE\"].value_counts().plot(kind='bar');"
   ]
  },
  {
   "cell_type": "code",
   "execution_count": 21,
   "metadata": {},
   "outputs": [
    {
     "data": {
      "image/png": "[encoded data removed]",
      "text/plain": [
       "<Figure size 864x432 with 1 Axes>"
      ]
     },
     "metadata": {
      "needs_background": "light"
     },
     "output_type": "display_data"
    }
   ],
   "source": [
    "# WEATHER vs SEVERITYCODE\n",
    "plt.figure(figsize = (12,6))\n",
    "df.groupby(\"WEATHER\")[\"SEVERITYCODE\"].value_counts().plot(kind='bar');"
   ]
  },
  {
   "cell_type": "code",
   "execution_count": 22,
   "metadata": {},
   "outputs": [
    {
     "data": {
      "image/png": "[encoded data removed]",
      "text/plain": [
       "<Figure size 864x432 with 1 Axes>"
      ]
     },
     "metadata": {
      "needs_background": "light"
     },
     "output_type": "display_data"
    }
   ],
   "source": [
    "# ROADCOND vs SEVERITYCODE\n",
    "plt.figure(figsize = (12,6))\n",
    "df.groupby(\"ROADCOND\")[\"SEVERITYCODE\"].value_counts().plot(kind='bar');"
   ]
  },
  {
   "cell_type": "code",
   "execution_count": 23,
   "metadata": {},
   "outputs": [
    {
     "data": {
      "image/png": "[encoded data removed]",
      "text/plain": [
       "<Figure size 864x432 with 1 Axes>"
      ]
     },
     "metadata": {
      "needs_background": "light"
     },
     "output_type": "display_data"
    }
   ],
   "source": [
    "# LIGHTCOND vs SEVERITYCODE\n",
    "plt.figure(figsize = (12,6))\n",
    "df.groupby(\"LIGHTCOND\")[\"SEVERITYCODE\"].value_counts().plot(kind='bar');"
   ]
  },
  {
   "cell_type": "code",
   "execution_count": 24,
   "metadata": {},
   "outputs": [
    {
     "data": {
      "image/png": "[encoded data removed]",
      "text/plain": [
       "<Figure size 864x432 with 1 Axes>"
      ]
     },
     "metadata": {
      "needs_background": "light"
     },
     "output_type": "display_data"
    }
   ],
   "source": [
    "# HITPARKEDCAR vs SEVERITYCODE\n",
    "plt.figure(figsize = (12,6))\n",
    "df.groupby(\"HITPARKEDCAR\")[\"SEVERITYCODE\"].value_counts().plot(kind='bar');"
   ]
  },
  {
   "cell_type": "markdown",
   "metadata": {},
   "source": [
    "#### From the above plots, we see that PERSONCOUNT, PEDCOUNT and PEDCYLCOUNT  are poorly correlated with SEVERITYCODE. Hence, we will drop those variables from our feature set."
   ]
  },
  {
   "cell_type": "code",
   "execution_count": 25,
   "metadata": {},
   "outputs": [],
   "source": [
    "df.drop(columns = ['PERSONCOUNT','PEDCOUNT','PEDCYLCOUNT'],axis = 1, inplace = True)"
   ]
  },
  {
   "cell_type": "code",
   "execution_count": 26,
   "metadata": {},
   "outputs": [
    {
     "data": {
      "text/html": [
       "<div>\n",
       "<style scoped>\n",
       "    .dataframe tbody tr th:only-of-type {\n",
       "        vertical-align: middle;\n",
       "    }\n",
       "\n",
       "    .dataframe tbody tr th {\n",
       "        vertical-align: top;\n",
       "    }\n",
       "\n",
       "    .dataframe thead th {\n",
       "        text-align: right;\n",
       "    }\n",
       "</style>\n",
       "<table border=\"1\" class=\"dataframe\">\n",
       "  <thead>\n",
       "    <tr style=\"text-align: right;\">\n",
       "      <th></th>\n",
       "      <th>SEVERITYCODE</th>\n",
       "      <th>ADDRTYPE</th>\n",
       "      <th>COLLISIONTYPE</th>\n",
       "      <th>VEHCOUNT</th>\n",
       "      <th>JUNCTIONTYPE</th>\n",
       "      <th>UNDERINFL</th>\n",
       "      <th>WEATHER</th>\n",
       "      <th>ROADCOND</th>\n",
       "      <th>LIGHTCOND</th>\n",
       "      <th>HITPARKEDCAR</th>\n",
       "    </tr>\n",
       "  </thead>\n",
       "  <tbody>\n",
       "    <tr>\n",
       "      <th>0</th>\n",
       "      <td>2</td>\n",
       "      <td>Intersection</td>\n",
       "      <td>Angles</td>\n",
       "      <td>2</td>\n",
       "      <td>At Intersection (intersection related)</td>\n",
       "      <td>N</td>\n",
       "      <td>Overcast</td>\n",
       "      <td>Wet</td>\n",
       "      <td>Daylight</td>\n",
       "      <td>N</td>\n",
       "    </tr>\n",
       "    <tr>\n",
       "      <th>1</th>\n",
       "      <td>1</td>\n",
       "      <td>Block</td>\n",
       "      <td>Sideswipe</td>\n",
       "      <td>2</td>\n",
       "      <td>Mid-Block (not related to intersection)</td>\n",
       "      <td>0</td>\n",
       "      <td>Raining</td>\n",
       "      <td>Wet</td>\n",
       "      <td>Dark - Street Lights On</td>\n",
       "      <td>N</td>\n",
       "    </tr>\n",
       "    <tr>\n",
       "      <th>2</th>\n",
       "      <td>1</td>\n",
       "      <td>Block</td>\n",
       "      <td>Parked Car</td>\n",
       "      <td>3</td>\n",
       "      <td>Mid-Block (not related to intersection)</td>\n",
       "      <td>0</td>\n",
       "      <td>Overcast</td>\n",
       "      <td>Dry</td>\n",
       "      <td>Daylight</td>\n",
       "      <td>N</td>\n",
       "    </tr>\n",
       "    <tr>\n",
       "      <th>3</th>\n",
       "      <td>1</td>\n",
       "      <td>Block</td>\n",
       "      <td>Other</td>\n",
       "      <td>3</td>\n",
       "      <td>Mid-Block (not related to intersection)</td>\n",
       "      <td>N</td>\n",
       "      <td>Clear</td>\n",
       "      <td>Dry</td>\n",
       "      <td>Daylight</td>\n",
       "      <td>N</td>\n",
       "    </tr>\n",
       "    <tr>\n",
       "      <th>4</th>\n",
       "      <td>2</td>\n",
       "      <td>Intersection</td>\n",
       "      <td>Angles</td>\n",
       "      <td>2</td>\n",
       "      <td>At Intersection (intersection related)</td>\n",
       "      <td>0</td>\n",
       "      <td>Raining</td>\n",
       "      <td>Wet</td>\n",
       "      <td>Daylight</td>\n",
       "      <td>N</td>\n",
       "    </tr>\n",
       "  </tbody>\n",
       "</table>\n",
       "</div>"
      ],
      "text/plain": [
       "   SEVERITYCODE      ADDRTYPE COLLISIONTYPE  VEHCOUNT  \\\n",
       "0             2  Intersection        Angles         2   \n",
       "1             1         Block     Sideswipe         2   \n",
       "2             1         Block    Parked Car         3   \n",
       "3             1         Block         Other         3   \n",
       "4             2  Intersection        Angles         2   \n",
       "\n",
       "                              JUNCTIONTYPE UNDERINFL   WEATHER ROADCOND  \\\n",
       "0   At Intersection (intersection related)         N  Overcast      Wet   \n",
       "1  Mid-Block (not related to intersection)         0   Raining      Wet   \n",
       "2  Mid-Block (not related to intersection)         0  Overcast      Dry   \n",
       "3  Mid-Block (not related to intersection)         N     Clear      Dry   \n",
       "4   At Intersection (intersection related)         0   Raining      Wet   \n",
       "\n",
       "                 LIGHTCOND HITPARKEDCAR  \n",
       "0                 Daylight            N  \n",
       "1  Dark - Street Lights On            N  \n",
       "2                 Daylight            N  \n",
       "3                 Daylight            N  \n",
       "4                 Daylight            N  "
      ]
     },
     "execution_count": 26,
     "metadata": {},
     "output_type": "execute_result"
    }
   ],
   "source": [
    "df.head()"
   ]
  },
  {
   "cell_type": "code",
   "execution_count": 27,
   "metadata": {},
   "outputs": [
    {
     "data": {
      "text/plain": [
       "(194673, 10)"
      ]
     },
     "execution_count": 27,
     "metadata": {},
     "output_type": "execute_result"
    }
   ],
   "source": [
    "df.shape"
   ]
  },
  {
   "cell_type": "markdown",
   "metadata": {},
   "source": [
    "#### Following is the final set of feature variables that we will use to predict accident severity\n",
    "\n",
    "1. ADDRTYPE\n",
    "2. COLLISIONTYPE\n",
    "3. VEHCOUNT\n",
    "4. JUNCTIONTYPE\n",
    "5. UNDERINFL\n",
    "6. WEATHER\n",
    "7. ROADCOND\n",
    "8. LIGHTCOND\n",
    "9. HITPARKEDCAR"
   ]
  },
  {
   "cell_type": "markdown",
   "metadata": {},
   "source": [
    "### Data Preparation"
   ]
  },
  {
   "cell_type": "code",
   "execution_count": 28,
   "metadata": {},
   "outputs": [],
   "source": [
    "# Remove the rows that have null values\n",
    "df.dropna(inplace = True)"
   ]
  },
  {
   "cell_type": "code",
   "execution_count": 29,
   "metadata": {},
   "outputs": [
    {
     "data": {
      "text/plain": [
       "SEVERITYCODE     0\n",
       "ADDRTYPE         0\n",
       "COLLISIONTYPE    0\n",
       "VEHCOUNT         0\n",
       "JUNCTIONTYPE     0\n",
       "UNDERINFL        0\n",
       "WEATHER          0\n",
       "ROADCOND         0\n",
       "LIGHTCOND        0\n",
       "HITPARKEDCAR     0\n",
       "dtype: int64"
      ]
     },
     "execution_count": 29,
     "metadata": {},
     "output_type": "execute_result"
    }
   ],
   "source": [
    "#Check for null values in the dataset\n",
    "df.isnull().sum()"
   ]
  },
  {
   "cell_type": "markdown",
   "metadata": {},
   "source": [
    "#### Balance the dataset"
   ]
  },
  {
   "cell_type": "code",
   "execution_count": 30,
   "metadata": {},
   "outputs": [
    {
     "data": {
      "text/plain": [
       "1    126270\n",
       "2     56625\n",
       "Name: SEVERITYCODE, dtype: int64"
      ]
     },
     "execution_count": 30,
     "metadata": {},
     "output_type": "execute_result"
    }
   ],
   "source": [
    "#Check if the dataset is imbalanced\n",
    "df[\"SEVERITYCODE\"].value_counts()"
   ]
  },
  {
   "cell_type": "code",
   "execution_count": 31,
   "metadata": {},
   "outputs": [
    {
     "data": {
      "image/png": "[encoded data removed]",
      "text/plain": [
       "<Figure size 432x288 with 1 Axes>"
      ]
     },
     "metadata": {
      "needs_background": "light"
     },
     "output_type": "display_data"
    }
   ],
   "source": [
    "#Plot the severity code value count to visually understand the magnitude of the dataset imbalance\n",
    "sns.countplot(df[\"SEVERITYCODE\"]);"
   ]
  },
  {
   "cell_type": "code",
   "execution_count": 32,
   "metadata": {},
   "outputs": [
    {
     "data": {
      "text/plain": [
       "2    56625\n",
       "1    56625\n",
       "Name: SEVERITYCODE, dtype: int64"
      ]
     },
     "execution_count": 32,
     "metadata": {},
     "output_type": "execute_result"
    }
   ],
   "source": [
    "# Balance the dataset\n",
    "## Separate majority and minority classes\n",
    "from sklearn.utils import resample\n",
    "df_sev1 = df[df.SEVERITYCODE==1]\n",
    "df_sev2 = df[df.SEVERITYCODE==2]\n",
    " \n",
    "# Downsample sample majority class\n",
    "df_sev1_downsampled = resample(df_sev1, \n",
    "                                 replace=True,     # sample with replacement\n",
    "                                 n_samples=56625,  # to match minority class\n",
    "                                 random_state=123) # reproducible results\n",
    "\n",
    "df = pd.concat([df_sev1_downsampled,df_sev2])\n",
    " \n",
    "# Display new class counts\n",
    "df[\"SEVERITYCODE\"].value_counts()"
   ]
  },
  {
   "cell_type": "code",
   "execution_count": 33,
   "metadata": {},
   "outputs": [
    {
     "data": {
      "image/png": "[encoded data removed]",
      "text/plain": [
       "<Figure size 432x288 with 1 Axes>"
      ]
     },
     "metadata": {
      "needs_background": "light"
     },
     "output_type": "display_data"
    }
   ],
   "source": [
    "#Plot the severity code value count to visually understand the magnitude of the dataset imbalance\n",
    "sns.countplot(df[\"SEVERITYCODE\"]);"
   ]
  },
  {
   "cell_type": "markdown",
   "metadata": {},
   "source": [
    "#### Check the individual values for each categorical variable"
   ]
  },
  {
   "cell_type": "code",
   "execution_count": 34,
   "metadata": {},
   "outputs": [
    {
     "data": {
      "text/plain": [
       "array(['Block', 'Intersection', 'Alley'], dtype=object)"
      ]
     },
     "execution_count": 34,
     "metadata": {},
     "output_type": "execute_result"
    }
   ],
   "source": [
    "df[\"ADDRTYPE\"].unique()"
   ]
  },
  {
   "cell_type": "code",
   "execution_count": 35,
   "metadata": {},
   "outputs": [
    {
     "data": {
      "text/plain": [
       "array(['Sideswipe', 'Right Turn', 'Parked Car', 'Rear Ended', 'Angles',\n",
       "       'Other', 'Left Turn', 'Head On', 'Cycles', 'Pedestrian'],\n",
       "      dtype=object)"
      ]
     },
     "execution_count": 35,
     "metadata": {},
     "output_type": "execute_result"
    }
   ],
   "source": [
    "df[\"COLLISIONTYPE\"].unique()"
   ]
  },
  {
   "cell_type": "code",
   "execution_count": 36,
   "metadata": {},
   "outputs": [
    {
     "data": {
      "text/plain": [
       "array(['Mid-Block (not related to intersection)',\n",
       "       'At Intersection (intersection related)',\n",
       "       'Mid-Block (but intersection related)', 'Driveway Junction',\n",
       "       'At Intersection (but not related to intersection)',\n",
       "       'Ramp Junction', 'Unknown'], dtype=object)"
      ]
     },
     "execution_count": 36,
     "metadata": {},
     "output_type": "execute_result"
    }
   ],
   "source": [
    "df[\"JUNCTIONTYPE\"].unique()"
   ]
  },
  {
   "cell_type": "code",
   "execution_count": 37,
   "metadata": {},
   "outputs": [
    {
     "data": {
      "text/plain": [
       "array(['N', '0', 'Y', '1'], dtype=object)"
      ]
     },
     "execution_count": 37,
     "metadata": {},
     "output_type": "execute_result"
    }
   ],
   "source": [
    "df[\"UNDERINFL\"].unique()"
   ]
  },
  {
   "cell_type": "code",
   "execution_count": 38,
   "metadata": {},
   "outputs": [],
   "source": [
    "# Replace all 'N's with '0's and 'Y's with '1's\n",
    "df[\"UNDERINFL\"].replace('0','N',inplace = True)\n",
    "df[\"UNDERINFL\"].replace('1','Y',inplace = True)"
   ]
  },
  {
   "cell_type": "code",
   "execution_count": 39,
   "metadata": {},
   "outputs": [
    {
     "data": {
      "text/plain": [
       "array(['N', 'Y'], dtype=object)"
      ]
     },
     "execution_count": 39,
     "metadata": {},
     "output_type": "execute_result"
    }
   ],
   "source": [
    "df[\"UNDERINFL\"].unique()"
   ]
  },
  {
   "cell_type": "code",
   "execution_count": 40,
   "metadata": {},
   "outputs": [
    {
     "data": {
      "text/plain": [
       "array(['Raining', 'Clear', 'Overcast', 'Unknown', 'Snowing',\n",
       "       'Fog/Smog/Smoke', 'Other', 'Sleet/Hail/Freezing Rain',\n",
       "       'Severe Crosswind', 'Blowing Sand/Dirt', 'Partly Cloudy'],\n",
       "      dtype=object)"
      ]
     },
     "execution_count": 40,
     "metadata": {},
     "output_type": "execute_result"
    }
   ],
   "source": [
    "df[\"WEATHER\"].unique()"
   ]
  },
  {
   "cell_type": "code",
   "execution_count": 41,
   "metadata": {},
   "outputs": [
    {
     "data": {
      "text/plain": [
       "array(['Wet', 'Dry', 'Unknown', 'Ice', 'Snow/Slush', 'Other',\n",
       "       'Standing Water', 'Sand/Mud/Dirt', 'Oil'], dtype=object)"
      ]
     },
     "execution_count": 41,
     "metadata": {},
     "output_type": "execute_result"
    }
   ],
   "source": [
    "df[\"ROADCOND\"].unique()"
   ]
  },
  {
   "cell_type": "code",
   "execution_count": 42,
   "metadata": {},
   "outputs": [
    {
     "data": {
      "text/plain": [
       "array(['Dusk', 'Daylight', 'Unknown', 'Dark - Street Lights On',\n",
       "       'Dark - No Street Lights', 'Dawn', 'Dark - Street Lights Off',\n",
       "       'Other', 'Dark - Unknown Lighting'], dtype=object)"
      ]
     },
     "execution_count": 42,
     "metadata": {},
     "output_type": "execute_result"
    }
   ],
   "source": [
    "df[\"LIGHTCOND\"].unique()"
   ]
  },
  {
   "cell_type": "code",
   "execution_count": 43,
   "metadata": {},
   "outputs": [
    {
     "data": {
      "text/plain": [
       "array(['N', 'Y'], dtype=object)"
      ]
     },
     "execution_count": 43,
     "metadata": {},
     "output_type": "execute_result"
    }
   ],
   "source": [
    "df[\"HITPARKEDCAR\"].unique()"
   ]
  },
  {
   "cell_type": "markdown",
   "metadata": {},
   "source": [
    "#### Convert all categorical data to continuous data"
   ]
  },
  {
   "cell_type": "code",
   "execution_count": 44,
   "metadata": {},
   "outputs": [
    {
     "data": {
      "text/html": [
       "<div>\n",
       "<style scoped>\n",
       "    .dataframe tbody tr th:only-of-type {\n",
       "        vertical-align: middle;\n",
       "    }\n",
       "\n",
       "    .dataframe tbody tr th {\n",
       "        vertical-align: top;\n",
       "    }\n",
       "\n",
       "    .dataframe thead th {\n",
       "        text-align: right;\n",
       "    }\n",
       "</style>\n",
       "<table border=\"1\" class=\"dataframe\">\n",
       "  <thead>\n",
       "    <tr style=\"text-align: right;\">\n",
       "      <th></th>\n",
       "      <th>SEVERITYCODE</th>\n",
       "      <th>VEHCOUNT</th>\n",
       "      <th>ADDRTYPE_Alley</th>\n",
       "      <th>ADDRTYPE_Block</th>\n",
       "      <th>ADDRTYPE_Intersection</th>\n",
       "      <th>COLLISIONTYPE_Angles</th>\n",
       "      <th>COLLISIONTYPE_Cycles</th>\n",
       "      <th>COLLISIONTYPE_Head On</th>\n",
       "      <th>COLLISIONTYPE_Left Turn</th>\n",
       "      <th>COLLISIONTYPE_Other</th>\n",
       "      <th>...</th>\n",
       "      <th>ROADCOND_Other</th>\n",
       "      <th>ROADCOND_Sand/Mud/Dirt</th>\n",
       "      <th>ROADCOND_Snow/Slush</th>\n",
       "      <th>ROADCOND_Standing Water</th>\n",
       "      <th>ROADCOND_Unknown</th>\n",
       "      <th>ROADCOND_Wet</th>\n",
       "      <th>HITPARKEDCAR_N</th>\n",
       "      <th>HITPARKEDCAR_Y</th>\n",
       "      <th>UNDERINFL_N</th>\n",
       "      <th>UNDERINFL_Y</th>\n",
       "    </tr>\n",
       "  </thead>\n",
       "  <tbody>\n",
       "    <tr>\n",
       "      <th>180975</th>\n",
       "      <td>1</td>\n",
       "      <td>1</td>\n",
       "      <td>0</td>\n",
       "      <td>1</td>\n",
       "      <td>0</td>\n",
       "      <td>0</td>\n",
       "      <td>0</td>\n",
       "      <td>0</td>\n",
       "      <td>0</td>\n",
       "      <td>0</td>\n",
       "      <td>...</td>\n",
       "      <td>0</td>\n",
       "      <td>0</td>\n",
       "      <td>0</td>\n",
       "      <td>0</td>\n",
       "      <td>0</td>\n",
       "      <td>1</td>\n",
       "      <td>1</td>\n",
       "      <td>0</td>\n",
       "      <td>1</td>\n",
       "      <td>0</td>\n",
       "    </tr>\n",
       "    <tr>\n",
       "      <th>22948</th>\n",
       "      <td>1</td>\n",
       "      <td>2</td>\n",
       "      <td>0</td>\n",
       "      <td>0</td>\n",
       "      <td>1</td>\n",
       "      <td>0</td>\n",
       "      <td>0</td>\n",
       "      <td>0</td>\n",
       "      <td>0</td>\n",
       "      <td>0</td>\n",
       "      <td>...</td>\n",
       "      <td>0</td>\n",
       "      <td>0</td>\n",
       "      <td>0</td>\n",
       "      <td>0</td>\n",
       "      <td>0</td>\n",
       "      <td>1</td>\n",
       "      <td>1</td>\n",
       "      <td>0</td>\n",
       "      <td>1</td>\n",
       "      <td>0</td>\n",
       "    </tr>\n",
       "    <tr>\n",
       "      <th>40362</th>\n",
       "      <td>1</td>\n",
       "      <td>2</td>\n",
       "      <td>0</td>\n",
       "      <td>1</td>\n",
       "      <td>0</td>\n",
       "      <td>0</td>\n",
       "      <td>0</td>\n",
       "      <td>0</td>\n",
       "      <td>0</td>\n",
       "      <td>0</td>\n",
       "      <td>...</td>\n",
       "      <td>0</td>\n",
       "      <td>0</td>\n",
       "      <td>0</td>\n",
       "      <td>0</td>\n",
       "      <td>0</td>\n",
       "      <td>1</td>\n",
       "      <td>1</td>\n",
       "      <td>0</td>\n",
       "      <td>1</td>\n",
       "      <td>0</td>\n",
       "    </tr>\n",
       "    <tr>\n",
       "      <th>25786</th>\n",
       "      <td>1</td>\n",
       "      <td>2</td>\n",
       "      <td>0</td>\n",
       "      <td>1</td>\n",
       "      <td>0</td>\n",
       "      <td>0</td>\n",
       "      <td>0</td>\n",
       "      <td>0</td>\n",
       "      <td>0</td>\n",
       "      <td>0</td>\n",
       "      <td>...</td>\n",
       "      <td>0</td>\n",
       "      <td>0</td>\n",
       "      <td>0</td>\n",
       "      <td>0</td>\n",
       "      <td>0</td>\n",
       "      <td>0</td>\n",
       "      <td>1</td>\n",
       "      <td>0</td>\n",
       "      <td>1</td>\n",
       "      <td>0</td>\n",
       "    </tr>\n",
       "    <tr>\n",
       "      <th>88320</th>\n",
       "      <td>1</td>\n",
       "      <td>2</td>\n",
       "      <td>0</td>\n",
       "      <td>1</td>\n",
       "      <td>0</td>\n",
       "      <td>0</td>\n",
       "      <td>0</td>\n",
       "      <td>0</td>\n",
       "      <td>0</td>\n",
       "      <td>0</td>\n",
       "      <td>...</td>\n",
       "      <td>0</td>\n",
       "      <td>0</td>\n",
       "      <td>0</td>\n",
       "      <td>0</td>\n",
       "      <td>0</td>\n",
       "      <td>1</td>\n",
       "      <td>1</td>\n",
       "      <td>0</td>\n",
       "      <td>1</td>\n",
       "      <td>0</td>\n",
       "    </tr>\n",
       "  </tbody>\n",
       "</table>\n",
       "<p>5 rows × 55 columns</p>\n",
       "</div>"
      ],
      "text/plain": [
       "        SEVERITYCODE  VEHCOUNT  ADDRTYPE_Alley  ADDRTYPE_Block  \\\n",
       "180975             1         1               0               1   \n",
       "22948              1         2               0               0   \n",
       "40362              1         2               0               1   \n",
       "25786              1         2               0               1   \n",
       "88320              1         2               0               1   \n",
       "\n",
       "        ADDRTYPE_Intersection  COLLISIONTYPE_Angles  COLLISIONTYPE_Cycles  \\\n",
       "180975                      0                     0                     0   \n",
       "22948                       1                     0                     0   \n",
       "40362                       0                     0                     0   \n",
       "25786                       0                     0                     0   \n",
       "88320                       0                     0                     0   \n",
       "\n",
       "        COLLISIONTYPE_Head On  COLLISIONTYPE_Left Turn  COLLISIONTYPE_Other  \\\n",
       "180975                      0                        0                    0   \n",
       "22948                       0                        0                    0   \n",
       "40362                       0                        0                    0   \n",
       "25786                       0                        0                    0   \n",
       "88320                       0                        0                    0   \n",
       "\n",
       "        ...  ROADCOND_Other  ROADCOND_Sand/Mud/Dirt  ROADCOND_Snow/Slush  \\\n",
       "180975  ...               0                       0                    0   \n",
       "22948   ...               0                       0                    0   \n",
       "40362   ...               0                       0                    0   \n",
       "25786   ...               0                       0                    0   \n",
       "88320   ...               0                       0                    0   \n",
       "\n",
       "        ROADCOND_Standing Water  ROADCOND_Unknown  ROADCOND_Wet  \\\n",
       "180975                        0                 0             1   \n",
       "22948                         0                 0             1   \n",
       "40362                         0                 0             1   \n",
       "25786                         0                 0             0   \n",
       "88320                         0                 0             1   \n",
       "\n",
       "        HITPARKEDCAR_N  HITPARKEDCAR_Y  UNDERINFL_N  UNDERINFL_Y  \n",
       "180975               1               0            1            0  \n",
       "22948                1               0            1            0  \n",
       "40362                1               0            1            0  \n",
       "25786                1               0            1            0  \n",
       "88320                1               0            1            0  \n",
       "\n",
       "[5 rows x 55 columns]"
      ]
     },
     "execution_count": 44,
     "metadata": {},
     "output_type": "execute_result"
    }
   ],
   "source": [
    "df = pd.get_dummies(df, columns=[\"ADDRTYPE\",\"COLLISIONTYPE\",\"JUNCTIONTYPE\",\"WEATHER\",\"LIGHTCOND\",\"ROADCOND\",\"HITPARKEDCAR\",\"UNDERINFL\"])\n",
    "df.head()"
   ]
  },
  {
   "cell_type": "code",
   "execution_count": 45,
   "metadata": {},
   "outputs": [
    {
     "data": {
      "text/plain": [
       "SEVERITYCODE                                                      int64\n",
       "VEHCOUNT                                                          int64\n",
       "ADDRTYPE_Alley                                                    uint8\n",
       "ADDRTYPE_Block                                                    uint8\n",
       "ADDRTYPE_Intersection                                             uint8\n",
       "COLLISIONTYPE_Angles                                              uint8\n",
       "COLLISIONTYPE_Cycles                                              uint8\n",
       "COLLISIONTYPE_Head On                                             uint8\n",
       "COLLISIONTYPE_Left Turn                                           uint8\n",
       "COLLISIONTYPE_Other                                               uint8\n",
       "COLLISIONTYPE_Parked Car                                          uint8\n",
       "COLLISIONTYPE_Pedestrian                                          uint8\n",
       "COLLISIONTYPE_Rear Ended                                          uint8\n",
       "COLLISIONTYPE_Right Turn                                          uint8\n",
       "COLLISIONTYPE_Sideswipe                                           uint8\n",
       "JUNCTIONTYPE_At Intersection (but not related to intersection)    uint8\n",
       "JUNCTIONTYPE_At Intersection (intersection related)               uint8\n",
       "JUNCTIONTYPE_Driveway Junction                                    uint8\n",
       "JUNCTIONTYPE_Mid-Block (but intersection related)                 uint8\n",
       "JUNCTIONTYPE_Mid-Block (not related to intersection)              uint8\n",
       "JUNCTIONTYPE_Ramp Junction                                        uint8\n",
       "JUNCTIONTYPE_Unknown                                              uint8\n",
       "WEATHER_Blowing Sand/Dirt                                         uint8\n",
       "WEATHER_Clear                                                     uint8\n",
       "WEATHER_Fog/Smog/Smoke                                            uint8\n",
       "WEATHER_Other                                                     uint8\n",
       "WEATHER_Overcast                                                  uint8\n",
       "WEATHER_Partly Cloudy                                             uint8\n",
       "WEATHER_Raining                                                   uint8\n",
       "WEATHER_Severe Crosswind                                          uint8\n",
       "WEATHER_Sleet/Hail/Freezing Rain                                  uint8\n",
       "WEATHER_Snowing                                                   uint8\n",
       "WEATHER_Unknown                                                   uint8\n",
       "LIGHTCOND_Dark - No Street Lights                                 uint8\n",
       "LIGHTCOND_Dark - Street Lights Off                                uint8\n",
       "LIGHTCOND_Dark - Street Lights On                                 uint8\n",
       "LIGHTCOND_Dark - Unknown Lighting                                 uint8\n",
       "LIGHTCOND_Dawn                                                    uint8\n",
       "LIGHTCOND_Daylight                                                uint8\n",
       "LIGHTCOND_Dusk                                                    uint8\n",
       "LIGHTCOND_Other                                                   uint8\n",
       "LIGHTCOND_Unknown                                                 uint8\n",
       "ROADCOND_Dry                                                      uint8\n",
       "ROADCOND_Ice                                                      uint8\n",
       "ROADCOND_Oil                                                      uint8\n",
       "ROADCOND_Other                                                    uint8\n",
       "ROADCOND_Sand/Mud/Dirt                                            uint8\n",
       "ROADCOND_Snow/Slush                                               uint8\n",
       "ROADCOND_Standing Water                                           uint8\n",
       "ROADCOND_Unknown                                                  uint8\n",
       "ROADCOND_Wet                                                      uint8\n",
       "HITPARKEDCAR_N                                                    uint8\n",
       "HITPARKEDCAR_Y                                                    uint8\n",
       "UNDERINFL_N                                                       uint8\n",
       "UNDERINFL_Y                                                       uint8\n",
       "dtype: object"
      ]
     },
     "execution_count": 45,
     "metadata": {},
     "output_type": "execute_result"
    }
   ],
   "source": [
    "df.dtypes"
   ]
  },
  {
   "cell_type": "markdown",
   "metadata": {},
   "source": [
    "### Modeling"
   ]
  },
  {
   "cell_type": "code",
   "execution_count": 46,
   "metadata": {},
   "outputs": [],
   "source": [
    "# Import the necessary packages\n",
    "from sklearn import preprocessing\n",
    "from sklearn import metrics\n",
    "from sklearn.metrics import classification_report,confusion_matrix,f1_score\n",
    "from sklearn.model_selection import train_test_split"
   ]
  },
  {
   "cell_type": "code",
   "execution_count": 47,
   "metadata": {},
   "outputs": [
    {
     "data": {
      "text/plain": [
       "array([[1, 0, 1, 0, 0, 0, 0, 0, 0, 0, 0, 0, 0, 1, 0, 0, 0, 0, 1, 0, 0, 0,\n",
       "        0, 0, 0, 0, 0, 1, 0, 0, 0, 0, 0, 0, 0, 0, 0, 0, 1, 0, 0, 0, 0, 0,\n",
       "        0, 0, 0, 0, 0, 1, 1, 0, 1, 0],\n",
       "       [2, 0, 0, 1, 0, 0, 0, 0, 0, 0, 0, 0, 1, 0, 0, 1, 0, 0, 0, 0, 0, 0,\n",
       "        0, 0, 0, 0, 0, 1, 0, 0, 0, 0, 0, 0, 0, 0, 0, 1, 0, 0, 0, 0, 0, 0,\n",
       "        0, 0, 0, 0, 0, 1, 1, 0, 1, 0],\n",
       "       [2, 0, 1, 0, 0, 0, 0, 0, 0, 1, 0, 0, 0, 0, 0, 0, 0, 0, 1, 0, 0, 0,\n",
       "        0, 0, 0, 0, 0, 1, 0, 0, 0, 0, 0, 0, 0, 0, 0, 1, 0, 0, 0, 0, 0, 0,\n",
       "        0, 0, 0, 0, 0, 1, 1, 0, 1, 0],\n",
       "       [2, 0, 1, 0, 0, 0, 0, 0, 0, 0, 0, 1, 0, 0, 0, 0, 0, 1, 0, 0, 0, 0,\n",
       "        1, 0, 0, 0, 0, 0, 0, 0, 0, 0, 0, 0, 0, 0, 0, 1, 0, 0, 0, 1, 0, 0,\n",
       "        0, 0, 0, 0, 0, 0, 1, 0, 1, 0],\n",
       "       [2, 0, 1, 0, 0, 0, 0, 0, 0, 1, 0, 0, 0, 0, 0, 0, 0, 0, 1, 0, 0, 0,\n",
       "        0, 0, 0, 1, 0, 0, 0, 0, 0, 0, 0, 0, 0, 0, 0, 0, 1, 0, 0, 0, 0, 0,\n",
       "        0, 0, 0, 0, 0, 1, 1, 0, 1, 0]])"
      ]
     },
     "execution_count": 47,
     "metadata": {},
     "output_type": "execute_result"
    }
   ],
   "source": [
    "X = df.drop('SEVERITYCODE',axis = 1).values\n",
    "X[0:5]"
   ]
  },
  {
   "cell_type": "code",
   "execution_count": 48,
   "metadata": {},
   "outputs": [
    {
     "data": {
      "text/plain": [
       "(113250, 54)"
      ]
     },
     "execution_count": 48,
     "metadata": {},
     "output_type": "execute_result"
    }
   ],
   "source": [
    "X.shape"
   ]
  },
  {
   "cell_type": "code",
   "execution_count": 49,
   "metadata": {},
   "outputs": [
    {
     "data": {
      "text/plain": [
       "array([1, 1, 1, 1, 1])"
      ]
     },
     "execution_count": 49,
     "metadata": {},
     "output_type": "execute_result"
    }
   ],
   "source": [
    "y = df[\"SEVERITYCODE\"].values\n",
    "y[0:5]"
   ]
  },
  {
   "cell_type": "code",
   "execution_count": 50,
   "metadata": {},
   "outputs": [
    {
     "data": {
      "text/plain": [
       "(113250,)"
      ]
     },
     "execution_count": 50,
     "metadata": {},
     "output_type": "execute_result"
    }
   ],
   "source": [
    "y.shape"
   ]
  },
  {
   "cell_type": "code",
   "execution_count": 51,
   "metadata": {},
   "outputs": [
    {
     "data": {
      "text/plain": [
       "array([[-1.56529976e+00, -3.27043642e-02,  7.92093668e-01,\n",
       "        -7.90308533e-01, -5.02661405e-01, -2.14579654e-01,\n",
       "        -1.10658315e-01, -2.97880741e-01, -3.66381468e-01,\n",
       "        -4.75611940e-01, -2.39301110e-01, -5.07329588e-01,\n",
       "        -1.24221432e-01,  3.30660163e+00, -1.06240883e-01,\n",
       "        -7.71480887e-01, -2.46396174e-01, -3.73845253e-01,\n",
       "         1.13966614e+00, -2.85135494e-02, -7.27893807e-03,\n",
       "        -1.42524300e-02, -1.24093556e+00, -5.47127193e-02,\n",
       "        -5.90108709e-02, -4.17834171e-01, -5.14691830e-03,\n",
       "         2.11316583e+00, -1.15094690e-02, -2.45112678e-02,\n",
       "        -6.65257948e-02, -2.30107917e-01, -8.38136021e-02,\n",
       "        -7.78941434e-02, -5.88206594e-01, -6.64470163e-03,\n",
       "        -1.17566990e-01, -1.32702034e+00,  5.46581525e+00,\n",
       "        -3.33739719e-02, -2.16955276e-01, -1.44853060e+00,\n",
       "        -7.80088001e-02, -1.90305549e-02, -2.64208003e-02,\n",
       "        -1.92613218e-02, -7.00497175e-02, -2.50464540e-02,\n",
       "        -2.28294047e-01,  1.68601017e+00,  1.57196321e-01,\n",
       "        -1.57196321e-01,  2.32311829e-01, -2.32311829e-01],\n",
       "       [ 7.39205115e-02, -3.27043642e-02, -1.26247695e+00,\n",
       "         1.26532861e+00, -5.02661405e-01, -2.14579654e-01,\n",
       "        -1.10658315e-01, -2.97880741e-01, -3.66381468e-01,\n",
       "        -4.75611940e-01, -2.39301110e-01, -5.07329588e-01,\n",
       "         8.05014066e+00, -3.02425303e-01, -1.06240883e-01,\n",
       "         1.29620839e+00, -2.46396174e-01, -3.73845253e-01,\n",
       "        -8.77449953e-01, -2.85135494e-02, -7.27893807e-03,\n",
       "        -1.42524300e-02, -1.24093556e+00, -5.47127193e-02,\n",
       "        -5.90108709e-02, -4.17834171e-01, -5.14691830e-03,\n",
       "         2.11316583e+00, -1.15094690e-02, -2.45112678e-02,\n",
       "        -6.65257948e-02, -2.30107917e-01, -8.38136021e-02,\n",
       "        -7.78941434e-02, -5.88206594e-01, -6.64470163e-03,\n",
       "        -1.17566990e-01,  7.53567952e-01, -1.82955324e-01,\n",
       "        -3.33739719e-02, -2.16955276e-01, -1.44853060e+00,\n",
       "        -7.80088001e-02, -1.90305549e-02, -2.64208003e-02,\n",
       "        -1.92613218e-02, -7.00497175e-02, -2.50464540e-02,\n",
       "        -2.28294047e-01,  1.68601017e+00,  1.57196321e-01,\n",
       "        -1.57196321e-01,  2.32311829e-01, -2.32311829e-01],\n",
       "       [ 7.39205115e-02, -3.27043642e-02,  7.92093668e-01,\n",
       "        -7.90308533e-01, -5.02661405e-01, -2.14579654e-01,\n",
       "        -1.10658315e-01, -2.97880741e-01, -3.66381468e-01,\n",
       "         2.10255445e+00, -2.39301110e-01, -5.07329588e-01,\n",
       "        -1.24221432e-01, -3.02425303e-01, -1.06240883e-01,\n",
       "        -7.71480887e-01, -2.46396174e-01, -3.73845253e-01,\n",
       "         1.13966614e+00, -2.85135494e-02, -7.27893807e-03,\n",
       "        -1.42524300e-02, -1.24093556e+00, -5.47127193e-02,\n",
       "        -5.90108709e-02, -4.17834171e-01, -5.14691830e-03,\n",
       "         2.11316583e+00, -1.15094690e-02, -2.45112678e-02,\n",
       "        -6.65257948e-02, -2.30107917e-01, -8.38136021e-02,\n",
       "        -7.78941434e-02, -5.88206594e-01, -6.64470163e-03,\n",
       "        -1.17566990e-01,  7.53567952e-01, -1.82955324e-01,\n",
       "        -3.33739719e-02, -2.16955276e-01, -1.44853060e+00,\n",
       "        -7.80088001e-02, -1.90305549e-02, -2.64208003e-02,\n",
       "        -1.92613218e-02, -7.00497175e-02, -2.50464540e-02,\n",
       "        -2.28294047e-01,  1.68601017e+00,  1.57196321e-01,\n",
       "        -1.57196321e-01,  2.32311829e-01, -2.32311829e-01],\n",
       "       [ 7.39205115e-02, -3.27043642e-02,  7.92093668e-01,\n",
       "        -7.90308533e-01, -5.02661405e-01, -2.14579654e-01,\n",
       "        -1.10658315e-01, -2.97880741e-01, -3.66381468e-01,\n",
       "        -4.75611940e-01, -2.39301110e-01,  1.97110522e+00,\n",
       "        -1.24221432e-01, -3.02425303e-01, -1.06240883e-01,\n",
       "        -7.71480887e-01, -2.46396174e-01,  2.67490357e+00,\n",
       "        -8.77449953e-01, -2.85135494e-02, -7.27893807e-03,\n",
       "        -1.42524300e-02,  8.05843619e-01, -5.47127193e-02,\n",
       "        -5.90108709e-02, -4.17834171e-01, -5.14691830e-03,\n",
       "        -4.73223628e-01, -1.15094690e-02, -2.45112678e-02,\n",
       "        -6.65257948e-02, -2.30107917e-01, -8.38136021e-02,\n",
       "        -7.78941434e-02, -5.88206594e-01, -6.64470163e-03,\n",
       "        -1.17566990e-01,  7.53567952e-01, -1.82955324e-01,\n",
       "        -3.33739719e-02, -2.16955276e-01,  6.90354762e-01,\n",
       "        -7.80088001e-02, -1.90305549e-02, -2.64208003e-02,\n",
       "        -1.92613218e-02, -7.00497175e-02, -2.50464540e-02,\n",
       "        -2.28294047e-01, -5.93116233e-01,  1.57196321e-01,\n",
       "        -1.57196321e-01,  2.32311829e-01, -2.32311829e-01],\n",
       "       [ 7.39205115e-02, -3.27043642e-02,  7.92093668e-01,\n",
       "        -7.90308533e-01, -5.02661405e-01, -2.14579654e-01,\n",
       "        -1.10658315e-01, -2.97880741e-01, -3.66381468e-01,\n",
       "         2.10255445e+00, -2.39301110e-01, -5.07329588e-01,\n",
       "        -1.24221432e-01, -3.02425303e-01, -1.06240883e-01,\n",
       "        -7.71480887e-01, -2.46396174e-01, -3.73845253e-01,\n",
       "         1.13966614e+00, -2.85135494e-02, -7.27893807e-03,\n",
       "        -1.42524300e-02, -1.24093556e+00, -5.47127193e-02,\n",
       "        -5.90108709e-02,  2.39329396e+00, -5.14691830e-03,\n",
       "        -4.73223628e-01, -1.15094690e-02, -2.45112678e-02,\n",
       "        -6.65257948e-02, -2.30107917e-01, -8.38136021e-02,\n",
       "        -7.78941434e-02, -5.88206594e-01, -6.64470163e-03,\n",
       "        -1.17566990e-01, -1.32702034e+00,  5.46581525e+00,\n",
       "        -3.33739719e-02, -2.16955276e-01, -1.44853060e+00,\n",
       "        -7.80088001e-02, -1.90305549e-02, -2.64208003e-02,\n",
       "        -1.92613218e-02, -7.00497175e-02, -2.50464540e-02,\n",
       "        -2.28294047e-01,  1.68601017e+00,  1.57196321e-01,\n",
       "        -1.57196321e-01,  2.32311829e-01, -2.32311829e-01]])"
      ]
     },
     "execution_count": 51,
     "metadata": {},
     "output_type": "execute_result"
    }
   ],
   "source": [
    "X = preprocessing.StandardScaler().fit(X).transform(X.astype(float))\n",
    "X[0:5]"
   ]
  },
  {
   "cell_type": "code",
   "execution_count": 52,
   "metadata": {},
   "outputs": [
    {
     "name": "stdout",
     "output_type": "stream",
     "text": [
      "X_train shape:  (79275, 54)\n",
      "X_test shape:  (33975, 54)\n",
      "y_train shape:  (79275,)\n",
      "y_test shape:  (33975,)\n"
     ]
    }
   ],
   "source": [
    "X_train,X_test,y_train,y_test = train_test_split( X, y, test_size=0.3, random_state=4)\n",
    "print(\"X_train shape: \",X_train.shape)\n",
    "print(\"X_test shape: \",X_test.shape)\n",
    "print(\"y_train shape: \",y_train.shape)\n",
    "print(\"y_test shape: \",y_test.shape)"
   ]
  },
  {
   "cell_type": "markdown",
   "metadata": {},
   "source": [
    "#### Support Vector Machine (SVM)"
   ]
  },
  {
   "cell_type": "code",
   "execution_count": 53,
   "metadata": {},
   "outputs": [],
   "source": [
    "from sklearn import svm"
   ]
  },
  {
   "cell_type": "code",
   "execution_count": 54,
   "metadata": {},
   "outputs": [
    {
     "data": {
      "text/plain": [
       "SVC()"
      ]
     },
     "execution_count": 54,
     "metadata": {},
     "output_type": "execute_result"
    }
   ],
   "source": [
    "clf = svm.SVC(kernel='rbf')\n",
    "clf.fit(X_train, y_train) "
   ]
  },
  {
   "cell_type": "code",
   "execution_count": 55,
   "metadata": {},
   "outputs": [
    {
     "data": {
      "text/plain": [
       "array([2, 2, 1, 1, 1])"
      ]
     },
     "execution_count": 55,
     "metadata": {},
     "output_type": "execute_result"
    }
   ],
   "source": [
    "yhat_SVM = clf.predict(X_test)\n",
    "yhat_SVM[0:5]"
   ]
  },
  {
   "cell_type": "markdown",
   "metadata": {},
   "source": [
    "#### Decision Tree"
   ]
  },
  {
   "cell_type": "code",
   "execution_count": 56,
   "metadata": {},
   "outputs": [],
   "source": [
    "from sklearn.tree import DecisionTreeClassifier"
   ]
  },
  {
   "cell_type": "code",
   "execution_count": 57,
   "metadata": {},
   "outputs": [
    {
     "data": {
      "text/plain": [
       "DecisionTreeClassifier(criterion='entropy', max_depth=4)"
      ]
     },
     "execution_count": 57,
     "metadata": {},
     "output_type": "execute_result"
    }
   ],
   "source": [
    "drugTree = DecisionTreeClassifier(criterion=\"entropy\", max_depth = 4)\n",
    "drugTree.fit(X_train,y_train)"
   ]
  },
  {
   "cell_type": "code",
   "execution_count": 58,
   "metadata": {},
   "outputs": [],
   "source": [
    "yhat_DCT = drugTree.predict(X_test)"
   ]
  },
  {
   "cell_type": "code",
   "execution_count": 59,
   "metadata": {},
   "outputs": [
    {
     "data": {
      "text/plain": [
       "array([2, 2, 1, 1, 2])"
      ]
     },
     "execution_count": 59,
     "metadata": {},
     "output_type": "execute_result"
    }
   ],
   "source": [
    "yhat_DCT[0:5]"
   ]
  },
  {
   "cell_type": "markdown",
   "metadata": {},
   "source": [
    "#### Logistic Regression"
   ]
  },
  {
   "cell_type": "code",
   "execution_count": 60,
   "metadata": {},
   "outputs": [],
   "source": [
    "from sklearn.linear_model import LogisticRegression"
   ]
  },
  {
   "cell_type": "code",
   "execution_count": 61,
   "metadata": {},
   "outputs": [
    {
     "data": {
      "text/plain": [
       "LogisticRegression(C=0.01, solver='liblinear')"
      ]
     },
     "execution_count": 61,
     "metadata": {},
     "output_type": "execute_result"
    }
   ],
   "source": [
    "LR = LogisticRegression(C=0.01, solver='liblinear').fit(X_train,y_train)\n",
    "LR.fit(X_train,y_train)"
   ]
  },
  {
   "cell_type": "code",
   "execution_count": 62,
   "metadata": {},
   "outputs": [
    {
     "data": {
      "text/plain": [
       "array([2, 2, 1, 1, 2])"
      ]
     },
     "execution_count": 62,
     "metadata": {},
     "output_type": "execute_result"
    }
   ],
   "source": [
    "yhat_LR = LR.predict(X_test)\n",
    "yhat_LR[0:5]"
   ]
  },
  {
   "cell_type": "markdown",
   "metadata": {},
   "source": [
    "## Results"
   ]
  },
  {
   "cell_type": "markdown",
   "metadata": {},
   "source": [
    "### Evaluation of SVM"
   ]
  },
  {
   "cell_type": "code",
   "execution_count": 63,
   "metadata": {},
   "outputs": [
    {
     "name": "stdout",
     "output_type": "stream",
     "text": [
      "[[13461     0]\n",
      " [    0     0]]\n",
      "              precision    recall  f1-score   support\n",
      "\n",
      "           1       0.74      0.61      0.67     16926\n",
      "           2       0.67      0.79      0.73     17049\n",
      "\n",
      "    accuracy                           0.70     33975\n",
      "   macro avg       0.71      0.70      0.70     33975\n",
      "weighted avg       0.71      0.70      0.70     33975\n",
      "\n"
     ]
    }
   ],
   "source": [
    "# Compute confusion matrix\n",
    "print(confusion_matrix(y_test, yhat_SVM, labels=[2,4]))\n",
    "\n",
    "# Compute classification matrix\n",
    "print (classification_report(y_test, yhat_SVM))"
   ]
  },
  {
   "cell_type": "markdown",
   "metadata": {},
   "source": [
    "### Evaluation of Decision Tree"
   ]
  },
  {
   "cell_type": "code",
   "execution_count": 64,
   "metadata": {},
   "outputs": [
    {
     "name": "stdout",
     "output_type": "stream",
     "text": [
      "[[15518     0]\n",
      " [    0     0]]\n",
      "              precision    recall  f1-score   support\n",
      "\n",
      "           1       0.83      0.45      0.58     16926\n",
      "           2       0.62      0.91      0.74     17049\n",
      "\n",
      "    accuracy                           0.68     33975\n",
      "   macro avg       0.73      0.68      0.66     33975\n",
      "weighted avg       0.73      0.68      0.66     33975\n",
      "\n"
     ]
    }
   ],
   "source": [
    "# Compute confusion matrix\n",
    "print(confusion_matrix(y_test, yhat_DCT, labels=[2,4]))\n",
    "\n",
    "# Compute classification matrix\n",
    "print (classification_report(y_test, yhat_DCT))"
   ]
  },
  {
   "cell_type": "markdown",
   "metadata": {},
   "source": [
    "### Evaluation of Logistic Regression"
   ]
  },
  {
   "cell_type": "code",
   "execution_count": 65,
   "metadata": {},
   "outputs": [
    {
     "name": "stdout",
     "output_type": "stream",
     "text": [
      "[[13989     0]\n",
      " [    0     0]]\n",
      "              precision    recall  f1-score   support\n",
      "\n",
      "           1       0.76      0.58      0.66     16926\n",
      "           2       0.66      0.82      0.73     17049\n",
      "\n",
      "    accuracy                           0.70     33975\n",
      "   macro avg       0.71      0.70      0.69     33975\n",
      "weighted avg       0.71      0.70      0.69     33975\n",
      "\n"
     ]
    }
   ],
   "source": [
    "# Compute confusion matrix\n",
    "print(confusion_matrix(y_test, yhat_LR, labels=[2,4]))\n",
    "\n",
    "# Compute classification matrix\n",
    "print (classification_report(y_test, yhat_LR))"
   ]
  },
  {
   "cell_type": "markdown",
   "metadata": {},
   "source": [
    "## Discussion"
   ]
  },
  {
   "cell_type": "markdown",
   "metadata": {},
   "source": [
    "Since this is a classification problem, three classification machine learning algorithms were used to predict the target variable which is the accident severity in Seattle city. From the metrics, we can infer that Support Vector Machine (SVM) provides a slightly better performace compared to the Decision Tree or Logistic Regression and hence can be selected to predict accident severity. "
   ]
  },
  {
   "cell_type": "markdown",
   "metadata": {},
   "source": [
    "## Conclusion"
   ]
  },
  {
   "cell_type": "markdown",
   "metadata": {},
   "source": [
    "The aim of this project was to predict the severity of road accidents in Seattle city. The dataset used for the analysis has information that can be used by the city administration and emergency response teams to take better decisions and approaches to handle accidents and accident victims. The general public can also use the prediction of the severity of accidents to warn themselves to drive carefully in different conditions. The main factors found to affect the severity of the accidents are address type where the accident occurred, the collision type, the number of vehicles involved in the accident, the juntion type where the accident occurred, whether the driver was under the influence of alcohol, the weather conditions, road conditions and light conditions during the accidents, and whether the accident involved hitting a parked car. Three classification models - Support Vector Machine, Decision Trees and Logistic Regression, were used to predict the severity of the accidents. After model evaluation, based on the metrics, it was identified that the Support Vector Machine model provides a fair prediction of the severity of accidents in Seattle city.  "
   ]
  },
  {
   "cell_type": "code",
   "execution_count": null,
   "metadata": {},
   "outputs": [],
   "source": []
  }
 ],
 "metadata": {
  "kernelspec": {
   "display_name": "Python 3",
   "language": "python",
   "name": "python3"
  },
  "language_info": {
   "codemirror_mode": {
    "name": "ipython",
    "version": 3
   },
   "file_extension": ".py",
   "mimetype": "text/x-python",
   "name": "python",
   "nbconvert_exporter": "python",
   "pygments_lexer": "ipython3",
   "version": "3.7.6"
  }
 },
 "nbformat": 4,
 "nbformat_minor": 4
}
